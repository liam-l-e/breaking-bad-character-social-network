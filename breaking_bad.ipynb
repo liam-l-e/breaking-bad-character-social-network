{
 "cells": [
  {
   "cell_type": "markdown",
   "id": "3cf0ab35-5a8a-45af-96e4-408b8dc7ec3f",
   "metadata": {},
   "source": [
    "# breaking bad social network\n",
    "### Liam Le"
   ]
  },
  {
   "cell_type": "markdown",
   "id": "f6955c18-1ced-4af8-ad60-e85919aee72a",
   "metadata": {},
   "source": [
    "## Import dependancies"
   ]
  },
  {
   "cell_type": "code",
   "execution_count": 1,
   "id": "1767be2c-b0fb-4b12-a412-bbcf333056b5",
   "metadata": {},
   "outputs": [],
   "source": [
    "import pandas as pd\n",
    "import numpy as np\n",
    "import spacy\n",
    "from spacy import displacy\n",
    "import networkx as nx\n",
    "\n",
    "import matplotlib.pyplot as plt"
   ]
  },
  {
   "cell_type": "code",
   "execution_count": 2,
   "id": "70cd6a43-b294-4e3d-8408-965dd81e19bc",
   "metadata": {},
   "outputs": [
    {
     "name": "stdout",
     "output_type": "stream",
     "text": [
      "Collecting en-core-web-sm==3.4.1\n",
      "  Downloading https://github.com/explosion/spacy-models/releases/download/en_core_web_sm-3.4.1/en_core_web_sm-3.4.1-py3-none-any.whl (12.8 MB)\n",
      "     --------------------------------------- 12.8/12.8 MB 16.8 MB/s eta 0:00:00\n",
      "Requirement already satisfied: spacy<3.5.0,>=3.4.0 in c:\\users\\redli\\projects\\breaking_bad\\breaking_bad\\lib\\site-packages (from en-core-web-sm==3.4.1) (3.4.2)\n",
      "Requirement already satisfied: numpy>=1.15.0 in c:\\users\\redli\\projects\\breaking_bad\\breaking_bad\\lib\\site-packages (from spacy<3.5.0,>=3.4.0->en-core-web-sm==3.4.1) (1.23.4)\n",
      "Requirement already satisfied: cymem<2.1.0,>=2.0.2 in c:\\users\\redli\\projects\\breaking_bad\\breaking_bad\\lib\\site-packages (from spacy<3.5.0,>=3.4.0->en-core-web-sm==3.4.1) (2.0.7)\n",
      "Requirement already satisfied: tqdm<5.0.0,>=4.38.0 in c:\\users\\redli\\projects\\breaking_bad\\breaking_bad\\lib\\site-packages (from spacy<3.5.0,>=3.4.0->en-core-web-sm==3.4.1) (4.64.1)\n",
      "Requirement already satisfied: pathy>=0.3.5 in c:\\users\\redli\\projects\\breaking_bad\\breaking_bad\\lib\\site-packages (from spacy<3.5.0,>=3.4.0->en-core-web-sm==3.4.1) (0.6.2)\n",
      "Requirement already satisfied: wasabi<1.1.0,>=0.9.1 in c:\\users\\redli\\projects\\breaking_bad\\breaking_bad\\lib\\site-packages (from spacy<3.5.0,>=3.4.0->en-core-web-sm==3.4.1) (0.10.1)\n",
      "Requirement already satisfied: jinja2 in c:\\users\\redli\\projects\\breaking_bad\\breaking_bad\\lib\\site-packages (from spacy<3.5.0,>=3.4.0->en-core-web-sm==3.4.1) (3.1.2)\n",
      "Requirement already satisfied: langcodes<4.0.0,>=3.2.0 in c:\\users\\redli\\projects\\breaking_bad\\breaking_bad\\lib\\site-packages (from spacy<3.5.0,>=3.4.0->en-core-web-sm==3.4.1) (3.3.0)\n",
      "Requirement already satisfied: spacy-legacy<3.1.0,>=3.0.10 in c:\\users\\redli\\projects\\breaking_bad\\breaking_bad\\lib\\site-packages (from spacy<3.5.0,>=3.4.0->en-core-web-sm==3.4.1) (3.0.10)\n",
      "Requirement already satisfied: requests<3.0.0,>=2.13.0 in c:\\users\\redli\\projects\\breaking_bad\\breaking_bad\\lib\\site-packages (from spacy<3.5.0,>=3.4.0->en-core-web-sm==3.4.1) (2.28.1)\n",
      "Requirement already satisfied: typer<0.5.0,>=0.3.0 in c:\\users\\redli\\projects\\breaking_bad\\breaking_bad\\lib\\site-packages (from spacy<3.5.0,>=3.4.0->en-core-web-sm==3.4.1) (0.4.2)\n",
      "Requirement already satisfied: pydantic!=1.8,!=1.8.1,<1.11.0,>=1.7.4 in c:\\users\\redli\\projects\\breaking_bad\\breaking_bad\\lib\\site-packages (from spacy<3.5.0,>=3.4.0->en-core-web-sm==3.4.1) (1.10.2)\n",
      "Requirement already satisfied: packaging>=20.0 in c:\\users\\redli\\projects\\breaking_bad\\breaking_bad\\lib\\site-packages (from spacy<3.5.0,>=3.4.0->en-core-web-sm==3.4.1) (21.3)\n",
      "Requirement already satisfied: murmurhash<1.1.0,>=0.28.0 in c:\\users\\redli\\projects\\breaking_bad\\breaking_bad\\lib\\site-packages (from spacy<3.5.0,>=3.4.0->en-core-web-sm==3.4.1) (1.0.9)\n",
      "Requirement already satisfied: preshed<3.1.0,>=3.0.2 in c:\\users\\redli\\projects\\breaking_bad\\breaking_bad\\lib\\site-packages (from spacy<3.5.0,>=3.4.0->en-core-web-sm==3.4.1) (3.0.8)\n",
      "Requirement already satisfied: catalogue<2.1.0,>=2.0.6 in c:\\users\\redli\\projects\\breaking_bad\\breaking_bad\\lib\\site-packages (from spacy<3.5.0,>=3.4.0->en-core-web-sm==3.4.1) (2.0.8)\n",
      "Requirement already satisfied: spacy-loggers<2.0.0,>=1.0.0 in c:\\users\\redli\\projects\\breaking_bad\\breaking_bad\\lib\\site-packages (from spacy<3.5.0,>=3.4.0->en-core-web-sm==3.4.1) (1.0.3)\n",
      "Requirement already satisfied: thinc<8.2.0,>=8.1.0 in c:\\users\\redli\\projects\\breaking_bad\\breaking_bad\\lib\\site-packages (from spacy<3.5.0,>=3.4.0->en-core-web-sm==3.4.1) (8.1.5)\n",
      "Requirement already satisfied: setuptools in c:\\users\\redli\\projects\\breaking_bad\\breaking_bad\\lib\\site-packages (from spacy<3.5.0,>=3.4.0->en-core-web-sm==3.4.1) (58.1.0)\n",
      "Requirement already satisfied: srsly<3.0.0,>=2.4.3 in c:\\users\\redli\\projects\\breaking_bad\\breaking_bad\\lib\\site-packages (from spacy<3.5.0,>=3.4.0->en-core-web-sm==3.4.1) (2.4.5)\n",
      "Requirement already satisfied: pyparsing!=3.0.5,>=2.0.2 in c:\\users\\redli\\projects\\breaking_bad\\breaking_bad\\lib\\site-packages (from packaging>=20.0->spacy<3.5.0,>=3.4.0->en-core-web-sm==3.4.1) (3.0.9)\n",
      "Requirement already satisfied: smart-open<6.0.0,>=5.2.1 in c:\\users\\redli\\projects\\breaking_bad\\breaking_bad\\lib\\site-packages (from pathy>=0.3.5->spacy<3.5.0,>=3.4.0->en-core-web-sm==3.4.1) (5.2.1)\n",
      "Requirement already satisfied: typing-extensions>=4.1.0 in c:\\users\\redli\\projects\\breaking_bad\\breaking_bad\\lib\\site-packages (from pydantic!=1.8,!=1.8.1,<1.11.0,>=1.7.4->spacy<3.5.0,>=3.4.0->en-core-web-sm==3.4.1) (4.4.0)\n",
      "Requirement already satisfied: charset-normalizer<3,>=2 in c:\\users\\redli\\projects\\breaking_bad\\breaking_bad\\lib\\site-packages (from requests<3.0.0,>=2.13.0->spacy<3.5.0,>=3.4.0->en-core-web-sm==3.4.1) (2.1.1)\n",
      "Requirement already satisfied: certifi>=2017.4.17 in c:\\users\\redli\\projects\\breaking_bad\\breaking_bad\\lib\\site-packages (from requests<3.0.0,>=2.13.0->spacy<3.5.0,>=3.4.0->en-core-web-sm==3.4.1) (2022.9.24)\n",
      "Requirement already satisfied: urllib3<1.27,>=1.21.1 in c:\\users\\redli\\projects\\breaking_bad\\breaking_bad\\lib\\site-packages (from requests<3.0.0,>=2.13.0->spacy<3.5.0,>=3.4.0->en-core-web-sm==3.4.1) (1.26.12)\n",
      "Requirement already satisfied: idna<4,>=2.5 in c:\\users\\redli\\projects\\breaking_bad\\breaking_bad\\lib\\site-packages (from requests<3.0.0,>=2.13.0->spacy<3.5.0,>=3.4.0->en-core-web-sm==3.4.1) (3.4)\n",
      "Requirement already satisfied: blis<0.8.0,>=0.7.8 in c:\\users\\redli\\projects\\breaking_bad\\breaking_bad\\lib\\site-packages (from thinc<8.2.0,>=8.1.0->spacy<3.5.0,>=3.4.0->en-core-web-sm==3.4.1) (0.7.9)\n",
      "Requirement already satisfied: confection<1.0.0,>=0.0.1 in c:\\users\\redli\\projects\\breaking_bad\\breaking_bad\\lib\\site-packages (from thinc<8.2.0,>=8.1.0->spacy<3.5.0,>=3.4.0->en-core-web-sm==3.4.1) (0.0.3)\n",
      "Requirement already satisfied: colorama in c:\\users\\redli\\projects\\breaking_bad\\breaking_bad\\lib\\site-packages (from tqdm<5.0.0,>=4.38.0->spacy<3.5.0,>=3.4.0->en-core-web-sm==3.4.1) (0.4.6)\n",
      "Requirement already satisfied: click<9.0.0,>=7.1.1 in c:\\users\\redli\\projects\\breaking_bad\\breaking_bad\\lib\\site-packages (from typer<0.5.0,>=0.3.0->spacy<3.5.0,>=3.4.0->en-core-web-sm==3.4.1) (8.1.3)\n",
      "Requirement already satisfied: MarkupSafe>=2.0 in c:\\users\\redli\\projects\\breaking_bad\\breaking_bad\\lib\\site-packages (from jinja2->spacy<3.5.0,>=3.4.0->en-core-web-sm==3.4.1) (2.1.1)\n",
      "[+] Download and installation successful\n",
      "You can now load the package via spacy.load('en_core_web_sm')\n"
     ]
    },
    {
     "name": "stderr",
     "output_type": "stream",
     "text": [
      "WARNING: You are using pip version 22.0.4; however, version 22.3.1 is available.\n",
      "You should consider upgrading via the 'C:\\Users\\redli\\Projects\\breaking_bad\\breaking_bad\\Scripts\\python.exe -m pip install --upgrade pip' command.\n"
     ]
    }
   ],
   "source": [
    "!python -m spacy download en_core_web_sm"
   ]
  },
  {
   "cell_type": "code",
   "execution_count": 3,
   "id": "f24ff687-32c6-4127-91fb-509b2d3db220",
   "metadata": {},
   "outputs": [],
   "source": [
    "NER = spacy.load('en_core_web_sm')\n",
    "# nlp model"
   ]
  },
  {
   "cell_type": "markdown",
   "id": "5b0c22d4-283c-4e91-be54-e9c8a9f0edd3",
   "metadata": {
    "tags": []
   },
   "source": [
    "## Load transcripts"
   ]
  },
  {
   "cell_type": "code",
   "execution_count": 4,
   "id": "36ab6f6a-7f32-4b2e-b8d4-6168636190ad",
   "metadata": {},
   "outputs": [],
   "source": [
    "import os"
   ]
  },
  {
   "cell_type": "code",
   "execution_count": 5,
   "id": "8d4df905-a7d7-4029-be92-0965d9f56f08",
   "metadata": {},
   "outputs": [
    {
     "data": {
      "text/plain": [
       "[<DirEntry 'filename1.txt'>,\n",
       " <DirEntry 'filename2.txt'>,\n",
       " <DirEntry 'filename3.txt'>,\n",
       " <DirEntry 'filename4.txt'>,\n",
       " <DirEntry 'filename5.txt'>]"
      ]
     },
     "execution_count": 5,
     "metadata": {},
     "output_type": "execute_result"
    }
   ],
   "source": [
    "all_seasons = [s for s in os.scandir('transcripts') if '.txt' in s.name]\n",
    "all_seasons"
   ]
  },
  {
   "cell_type": "code",
   "execution_count": 6,
   "id": "4ae0c57b-4d5a-4859-a130-c3d68050babf",
   "metadata": {},
   "outputs": [
    {
     "data": {
      "text/plain": [
       "{'season1': <DirEntry 'filename1.txt'>,\n",
       " 'season2': <DirEntry 'filename2.txt'>,\n",
       " 'season3': <DirEntry 'filename3.txt'>,\n",
       " 'season4': <DirEntry 'filename4.txt'>,\n",
       " 'season5': <DirEntry 'filename5.txt'>}"
      ]
     },
     "execution_count": 6,
     "metadata": {},
     "output_type": "execute_result"
    }
   ],
   "source": [
    "seasons = {}\n",
    "n = 1\n",
    "for season in all_seasons:\n",
    "    seasons[\"season\" + str(n)] = all_seasons[n-1]\n",
    "    n +=1\n",
    "    \n",
    "seasons"
   ]
  },
  {
   "cell_type": "code",
   "execution_count": 7,
   "id": "662e4058-10da-4041-aeea-a8e29a773e41",
   "metadata": {},
   "outputs": [],
   "source": [
    "season1 = all_seasons[0]\n",
    "\n",
    "season1_text = open(season1, encoding=\"utf8\").read()\n",
    "season1_doc = NER(season1_text)"
   ]
  },
  {
   "cell_type": "code",
   "execution_count": 8,
   "id": "d32a23d0-fc29-4bee-a894-99f1a1aaa9c2",
   "metadata": {},
   "outputs": [
    {
     "data": {
      "text/html": [
       "<span class=\"tex2jax_ignore\"><div class=\"entities\" style=\"line-height: 2.5; direction: ltr\">\n",
       "<mark class=\"entity\" style=\"background: #7aecec; padding: 0.45em 0.6em; margin: 0 0.25em; line-height: 1; border-radius: 0.35em;\">\n",
       "    F.D. » Transcripts » TV &amp; Movie Transcripts\n",
       "    <span style=\"font-size: 0.8em; font-weight: bold; line-height: 1; border-radius: 0.35em; vertical-align: middle; margin-left: 0.5rem\">ORG</span>\n",
       "</mark>\n",
       " » B » Breaking Bad</br>Editor: Tv_Gal13</br>Scene: \n",
       "<mark class=\"entity\" style=\"background: #aa9cfc; padding: 0.45em 0.6em; margin: 0 0.25em; line-height: 1; border-radius: 0.35em;\">\n",
       "    Desert\n",
       "Walter\n",
       "    <span style=\"font-size: 0.8em; font-weight: bold; line-height: 1; border-radius: 0.35em; vertical-align: middle; margin-left: 0.5rem\">PERSON</span>\n",
       "</mark>\n",
       ": My name is \n",
       "<mark class=\"entity\" style=\"background: #aa9cfc; padding: 0.45em 0.6em; margin: 0 0.25em; line-height: 1; border-radius: 0.35em;\">\n",
       "    Walter Hartwell White\n",
       "    <span style=\"font-size: 0.8em; font-weight: bold; line-height: 1; border-radius: 0.35em; vertical-align: middle; margin-left: 0.5rem\">PERSON</span>\n",
       "</mark>\n",
       ". I live at 308 \n",
       "<mark class=\"entity\" style=\"background: #feca74; padding: 0.45em 0.6em; margin: 0 0.25em; line-height: 1; border-radius: 0.35em;\">\n",
       "    Negra\n",
       "    <span style=\"font-size: 0.8em; font-weight: bold; line-height: 1; border-radius: 0.35em; vertical-align: middle; margin-left: 0.5rem\">GPE</span>\n",
       "</mark>\n",
       " Arroyo \n",
       "<mark class=\"entity\" style=\"background: #aa9cfc; padding: 0.45em 0.6em; margin: 0 0.25em; line-height: 1; border-radius: 0.35em;\">\n",
       "    Lane Albuquerque\n",
       "    <span style=\"font-size: 0.8em; font-weight: bold; line-height: 1; border-radius: 0.35em; vertical-align: middle; margin-left: 0.5rem\">PERSON</span>\n",
       "</mark>\n",
       ", \n",
       "<mark class=\"entity\" style=\"background: #feca74; padding: 0.45em 0.6em; margin: 0 0.25em; line-height: 1; border-radius: 0.35em;\">\n",
       "    New Mexico\n",
       "    <span style=\"font-size: 0.8em; font-weight: bold; line-height: 1; border-radius: 0.35em; vertical-align: middle; margin-left: 0.5rem\">GPE</span>\n",
       "</mark>\n",
       ", \n",
       "<mark class=\"entity\" style=\"background: #bfe1d9; padding: 0.45em 0.6em; margin: 0 0.25em; line-height: 1; border-radius: 0.35em;\">\n",
       "    87104\n",
       "    <span style=\"font-size: 0.8em; font-weight: bold; line-height: 1; border-radius: 0.35em; vertical-align: middle; margin-left: 0.5rem\">DATE</span>\n",
       "</mark>\n",
       ". To all law enforcement entities, this is not an admission of guilt. I am speaking to my family now. Skyler you are the love of my life. I hope you know that. \n",
       "<mark class=\"entity\" style=\"background: #aa9cfc; padding: 0.45em 0.6em; margin: 0 0.25em; line-height: 1; border-radius: 0.35em;\">\n",
       "    Walter Junior\n",
       "    <span style=\"font-size: 0.8em; font-weight: bold; line-height: 1; border-radius: 0.35em; vertical-align: middle; margin-left: 0.5rem\">PERSON</span>\n",
       "</mark>\n",
       " you're my big man. There are going to be some things. Things that </div></span>"
      ],
      "text/plain": [
       "<IPython.core.display.HTML object>"
      ]
     },
     "metadata": {},
     "output_type": "display_data"
    }
   ],
   "source": [
    "displacy.render(season1_doc[0:100], style=\"ent\", jupyter=True)"
   ]
  },
  {
   "cell_type": "code",
   "execution_count": 9,
   "id": "7bad33f7-08fa-4628-8f92-31c8db58c562",
   "metadata": {},
   "outputs": [],
   "source": [
    "import json\n",
    "import os"
   ]
  },
  {
   "cell_type": "code",
   "execution_count": 10,
   "id": "5eded068-8a2e-41c3-9244-06146b646be8",
   "metadata": {},
   "outputs": [
    {
     "data": {
      "text/plain": [
       "['.ipynb_checkpoints',\n",
       " 'breakingbad_scaper',\n",
       " 'breaking_bad',\n",
       " 'breaking_bad.html',\n",
       " 'breaking_bad.ipynb',\n",
       " 'characters_json',\n",
       " 'chars.py',\n",
       " 'transcripts',\n",
       " '__pycache__']"
      ]
     },
     "execution_count": 10,
     "metadata": {},
     "output_type": "execute_result"
    }
   ],
   "source": [
    "os.listdir()"
   ]
  },
  {
   "cell_type": "markdown",
   "id": "caa10c7b-085c-4567-883b-c5ecf3547de3",
   "metadata": {},
   "source": [
    "## Compare entities from transcripts and scraped characters"
   ]
  },
  {
   "cell_type": "code",
   "execution_count": 11,
   "id": "a1649073-7013-456d-a66c-20659f3d08d7",
   "metadata": {},
   "outputs": [],
   "source": [
    "sent_entity_df = []\n",
    "\n",
    "for sent in season1_doc.sents:\n",
    "    entity_list = [ent.text for ent in sent.ents]\n",
    "    sent_entity_df.append({\"sentence\": sent, \"entities\": entity_list})\n",
    "    \n",
    "sent_entity_df = pd.DataFrame(sent_entity_df)"
   ]
  },
  {
   "cell_type": "code",
   "execution_count": 28,
   "id": "49739c9a-e57b-429f-8b49-54bec4e6c25c",
   "metadata": {},
   "outputs": [
    {
     "data": {
      "text/html": [
       "<div>\n",
       "<style scoped>\n",
       "    .dataframe tbody tr th:only-of-type {\n",
       "        vertical-align: middle;\n",
       "    }\n",
       "\n",
       "    .dataframe tbody tr th {\n",
       "        vertical-align: top;\n",
       "    }\n",
       "\n",
       "    .dataframe thead th {\n",
       "        text-align: right;\n",
       "    }\n",
       "</style>\n",
       "<table border=\"1\" class=\"dataframe\">\n",
       "  <thead>\n",
       "    <tr style=\"text-align: right;\">\n",
       "      <th></th>\n",
       "      <th>sentence</th>\n",
       "      <th>entities</th>\n",
       "    </tr>\n",
       "  </thead>\n",
       "  <tbody>\n",
       "    <tr>\n",
       "      <th>0</th>\n",
       "      <td>(F.D., », Transcripts, », TV, &amp;, Movie, Transc...</td>\n",
       "      <td>[F.D. » Transcripts » TV &amp; Movie Transcripts]</td>\n",
       "    </tr>\n",
       "    <tr>\n",
       "      <th>1</th>\n",
       "      <td>(Breaking, Bad, \\n, Editor, :, Tv_Gal13, \\n, S...</td>\n",
       "      <td>[Desert\\nWalter]</td>\n",
       "    </tr>\n",
       "    <tr>\n",
       "      <th>2</th>\n",
       "      <td>(My, name, is, Walter, Hartwell, White, .)</td>\n",
       "      <td>[Walter Hartwell White]</td>\n",
       "    </tr>\n",
       "    <tr>\n",
       "      <th>3</th>\n",
       "      <td>(I, live, at, 308, Negra, Arroyo, Lane, Albuqu...</td>\n",
       "      <td>[Negra, Lane Albuquerque, New Mexico, 87104]</td>\n",
       "    </tr>\n",
       "    <tr>\n",
       "      <th>4</th>\n",
       "      <td>(To, all, law, enforcement, entities, ,, this,...</td>\n",
       "      <td>[]</td>\n",
       "    </tr>\n",
       "  </tbody>\n",
       "</table>\n",
       "</div>"
      ],
      "text/plain": [
       "                                            sentence  \\\n",
       "0  (F.D., », Transcripts, », TV, &, Movie, Transc...   \n",
       "1  (Breaking, Bad, \\n, Editor, :, Tv_Gal13, \\n, S...   \n",
       "2         (My, name, is, Walter, Hartwell, White, .)   \n",
       "3  (I, live, at, 308, Negra, Arroyo, Lane, Albuqu...   \n",
       "4  (To, all, law, enforcement, entities, ,, this,...   \n",
       "\n",
       "                                        entities  \n",
       "0  [F.D. » Transcripts » TV & Movie Transcripts]  \n",
       "1                               [Desert\\nWalter]  \n",
       "2                        [Walter Hartwell White]  \n",
       "3   [Negra, Lane Albuquerque, New Mexico, 87104]  \n",
       "4                                             []  "
      ]
     },
     "execution_count": 28,
     "metadata": {},
     "output_type": "execute_result"
    }
   ],
   "source": [
    "sent_entity_df.head() # sentence no. || entities inside"
   ]
  },
  {
   "cell_type": "code",
   "execution_count": 17,
   "id": "a428ae3d-2461-4c3f-aa99-434d81038d35",
   "metadata": {},
   "outputs": [
    {
     "ename": "IndexError",
     "evalue": "list assignment index out of range",
     "output_type": "error",
     "traceback": [
      "\u001b[1;31m---------------------------------------------------------------------------\u001b[0m",
      "\u001b[1;31mIndexError\u001b[0m                                Traceback (most recent call last)",
      "Cell \u001b[1;32mIn [17], line 1\u001b[0m\n\u001b[1;32m----> 1\u001b[0m \u001b[38;5;28;01mfrom\u001b[39;00m \u001b[38;5;21;01mchars\u001b[39;00m \u001b[38;5;28;01mimport\u001b[39;00m characters\n\u001b[0;32m      3\u001b[0m \u001b[38;5;28;01mdef\u001b[39;00m \u001b[38;5;21mfilter_entity\u001b[39m(ent_list, characters):\n\u001b[0;32m      4\u001b[0m     \u001b[38;5;28;01mreturn\u001b[39;00m [ent \u001b[38;5;28;01mfor\u001b[39;00m ent \u001b[38;5;129;01min\u001b[39;00m ent_list\n\u001b[0;32m      5\u001b[0m             \u001b[38;5;28;01mif\u001b[39;00m ent \u001b[38;5;129;01min\u001b[39;00m characters[ent]]\n",
      "File \u001b[1;32m~\\Projects\\breaking_bad\\chars.py:27\u001b[0m\n\u001b[0;32m     24\u001b[0m characters \u001b[38;5;241m=\u001b[39m []\n\u001b[0;32m     26\u001b[0m \u001b[38;5;28;01mfor\u001b[39;00m i \u001b[38;5;129;01min\u001b[39;00m \u001b[38;5;28mrange\u001b[39m(\u001b[38;5;28mlen\u001b[39m(chars_names)):\n\u001b[1;32m---> 27\u001b[0m     \u001b[43mcharacters\u001b[49m\u001b[43m[\u001b[49m\u001b[43mi\u001b[49m\u001b[43m]\u001b[49m \u001b[38;5;241m=\u001b[39m [chars_nnames[i], chars_fnames[i], chars_names[i]]\n\u001b[0;32m     29\u001b[0m \u001b[38;5;28mprint\u001b[39m(characters)\n",
      "\u001b[1;31mIndexError\u001b[0m: list assignment index out of range"
     ]
    }
   ],
   "source": [
    "from chars import characters\n",
    "\n",
    "def filter_entity(ent_list, characters):\n",
    "    return [ent for ent in ent_list\n",
    "            if ent in characters]"
   ]
  },
  {
   "cell_type": "code",
   "execution_count": 30,
   "id": "fb3e5e86-b6be-4fb3-9dc1-d16e94f2b240",
   "metadata": {},
   "outputs": [
    {
     "data": {
      "text/plain": [
       "[]"
      ]
     },
     "execution_count": 30,
     "metadata": {},
     "output_type": "execute_result"
    }
   ],
   "source": [
    "filter_entity([\"Walter\", \"Geralt\", \"Liam\", \"Mike\", \"Heisenberg\", \"Matt Shin\", \"Gus\"], characters)"
   ]
  },
  {
   "cell_type": "code",
   "execution_count": 18,
   "id": "e24b1d8b-25fd-4557-8f78-589f270f1581",
   "metadata": {},
   "outputs": [
    {
     "ename": "NameError",
     "evalue": "name 'filter_entity' is not defined",
     "output_type": "error",
     "traceback": [
      "\u001b[1;31m---------------------------------------------------------------------------\u001b[0m",
      "\u001b[1;31mNameError\u001b[0m                                 Traceback (most recent call last)",
      "Cell \u001b[1;32mIn [18], line 2\u001b[0m\n\u001b[0;32m      1\u001b[0m \u001b[38;5;66;03m# lambda applies filter to each sentence in df\u001b[39;00m\n\u001b[1;32m----> 2\u001b[0m sent_entity_df[\u001b[38;5;124m'\u001b[39m\u001b[38;5;124mcharacter_entities\u001b[39m\u001b[38;5;124m'\u001b[39m] \u001b[38;5;241m=\u001b[39m \u001b[43msent_entity_df\u001b[49m\u001b[43m[\u001b[49m\u001b[38;5;124;43m'\u001b[39;49m\u001b[38;5;124;43mentities\u001b[39;49m\u001b[38;5;124;43m'\u001b[39;49m\u001b[43m]\u001b[49m\u001b[38;5;241;43m.\u001b[39;49m\u001b[43mapply\u001b[49m\u001b[43m(\u001b[49m\u001b[38;5;28;43;01mlambda\u001b[39;49;00m\u001b[43m \u001b[49m\u001b[43mx\u001b[49m\u001b[43m:\u001b[49m\u001b[43m \u001b[49m\u001b[43mfilter_entity\u001b[49m\u001b[43m(\u001b[49m\u001b[43mx\u001b[49m\u001b[43m,\u001b[49m\u001b[43m \u001b[49m\u001b[43mcharacters\u001b[49m\u001b[43m \u001b[49m\u001b[43m)\u001b[49m\u001b[43m)\u001b[49m\n\u001b[0;32m      4\u001b[0m \u001b[38;5;66;03m# choose all entries without [] \u001b[39;00m\n\u001b[0;32m      5\u001b[0m sent_entity_df_filtered \u001b[38;5;241m=\u001b[39m sent_entity_df[sent_entity_df[\u001b[38;5;124m'\u001b[39m\u001b[38;5;124mcharacter_entities\u001b[39m\u001b[38;5;124m'\u001b[39m]\u001b[38;5;241m.\u001b[39mmap(\u001b[38;5;28mlen\u001b[39m) \u001b[38;5;241m>\u001b[39m \u001b[38;5;241m0\u001b[39m]\n",
      "File \u001b[1;32m~\\Projects\\breaking_bad\\breaking_bad\\lib\\site-packages\\pandas\\core\\series.py:4771\u001b[0m, in \u001b[0;36mSeries.apply\u001b[1;34m(self, func, convert_dtype, args, **kwargs)\u001b[0m\n\u001b[0;32m   4661\u001b[0m \u001b[38;5;28;01mdef\u001b[39;00m \u001b[38;5;21mapply\u001b[39m(\n\u001b[0;32m   4662\u001b[0m     \u001b[38;5;28mself\u001b[39m,\n\u001b[0;32m   4663\u001b[0m     func: AggFuncType,\n\u001b[1;32m   (...)\u001b[0m\n\u001b[0;32m   4666\u001b[0m     \u001b[38;5;241m*\u001b[39m\u001b[38;5;241m*\u001b[39mkwargs,\n\u001b[0;32m   4667\u001b[0m ) \u001b[38;5;241m-\u001b[39m\u001b[38;5;241m>\u001b[39m DataFrame \u001b[38;5;241m|\u001b[39m Series:\n\u001b[0;32m   4668\u001b[0m     \u001b[38;5;124;03m\"\"\"\u001b[39;00m\n\u001b[0;32m   4669\u001b[0m \u001b[38;5;124;03m    Invoke function on values of Series.\u001b[39;00m\n\u001b[0;32m   4670\u001b[0m \n\u001b[1;32m   (...)\u001b[0m\n\u001b[0;32m   4769\u001b[0m \u001b[38;5;124;03m    dtype: float64\u001b[39;00m\n\u001b[0;32m   4770\u001b[0m \u001b[38;5;124;03m    \"\"\"\u001b[39;00m\n\u001b[1;32m-> 4771\u001b[0m     \u001b[38;5;28;01mreturn\u001b[39;00m \u001b[43mSeriesApply\u001b[49m\u001b[43m(\u001b[49m\u001b[38;5;28;43mself\u001b[39;49m\u001b[43m,\u001b[49m\u001b[43m \u001b[49m\u001b[43mfunc\u001b[49m\u001b[43m,\u001b[49m\u001b[43m \u001b[49m\u001b[43mconvert_dtype\u001b[49m\u001b[43m,\u001b[49m\u001b[43m \u001b[49m\u001b[43margs\u001b[49m\u001b[43m,\u001b[49m\u001b[43m \u001b[49m\u001b[43mkwargs\u001b[49m\u001b[43m)\u001b[49m\u001b[38;5;241;43m.\u001b[39;49m\u001b[43mapply\u001b[49m\u001b[43m(\u001b[49m\u001b[43m)\u001b[49m\n",
      "File \u001b[1;32m~\\Projects\\breaking_bad\\breaking_bad\\lib\\site-packages\\pandas\\core\\apply.py:1105\u001b[0m, in \u001b[0;36mSeriesApply.apply\u001b[1;34m(self)\u001b[0m\n\u001b[0;32m   1102\u001b[0m     \u001b[38;5;28;01mreturn\u001b[39;00m \u001b[38;5;28mself\u001b[39m\u001b[38;5;241m.\u001b[39mapply_str()\n\u001b[0;32m   1104\u001b[0m \u001b[38;5;66;03m# self.f is Callable\u001b[39;00m\n\u001b[1;32m-> 1105\u001b[0m \u001b[38;5;28;01mreturn\u001b[39;00m \u001b[38;5;28;43mself\u001b[39;49m\u001b[38;5;241;43m.\u001b[39;49m\u001b[43mapply_standard\u001b[49m\u001b[43m(\u001b[49m\u001b[43m)\u001b[49m\n",
      "File \u001b[1;32m~\\Projects\\breaking_bad\\breaking_bad\\lib\\site-packages\\pandas\\core\\apply.py:1156\u001b[0m, in \u001b[0;36mSeriesApply.apply_standard\u001b[1;34m(self)\u001b[0m\n\u001b[0;32m   1154\u001b[0m     \u001b[38;5;28;01melse\u001b[39;00m:\n\u001b[0;32m   1155\u001b[0m         values \u001b[38;5;241m=\u001b[39m obj\u001b[38;5;241m.\u001b[39mastype(\u001b[38;5;28mobject\u001b[39m)\u001b[38;5;241m.\u001b[39m_values\n\u001b[1;32m-> 1156\u001b[0m         mapped \u001b[38;5;241m=\u001b[39m \u001b[43mlib\u001b[49m\u001b[38;5;241;43m.\u001b[39;49m\u001b[43mmap_infer\u001b[49m\u001b[43m(\u001b[49m\n\u001b[0;32m   1157\u001b[0m \u001b[43m            \u001b[49m\u001b[43mvalues\u001b[49m\u001b[43m,\u001b[49m\n\u001b[0;32m   1158\u001b[0m \u001b[43m            \u001b[49m\u001b[43mf\u001b[49m\u001b[43m,\u001b[49m\n\u001b[0;32m   1159\u001b[0m \u001b[43m            \u001b[49m\u001b[43mconvert\u001b[49m\u001b[38;5;241;43m=\u001b[39;49m\u001b[38;5;28;43mself\u001b[39;49m\u001b[38;5;241;43m.\u001b[39;49m\u001b[43mconvert_dtype\u001b[49m\u001b[43m,\u001b[49m\n\u001b[0;32m   1160\u001b[0m \u001b[43m        \u001b[49m\u001b[43m)\u001b[49m\n\u001b[0;32m   1162\u001b[0m \u001b[38;5;28;01mif\u001b[39;00m \u001b[38;5;28mlen\u001b[39m(mapped) \u001b[38;5;129;01mand\u001b[39;00m \u001b[38;5;28misinstance\u001b[39m(mapped[\u001b[38;5;241m0\u001b[39m], ABCSeries):\n\u001b[0;32m   1163\u001b[0m     \u001b[38;5;66;03m# GH#43986 Need to do list(mapped) in order to get treated as nested\u001b[39;00m\n\u001b[0;32m   1164\u001b[0m     \u001b[38;5;66;03m#  See also GH#25959 regarding EA support\u001b[39;00m\n\u001b[0;32m   1165\u001b[0m     \u001b[38;5;28;01mreturn\u001b[39;00m obj\u001b[38;5;241m.\u001b[39m_constructor_expanddim(\u001b[38;5;28mlist\u001b[39m(mapped), index\u001b[38;5;241m=\u001b[39mobj\u001b[38;5;241m.\u001b[39mindex)\n",
      "File \u001b[1;32m~\\Projects\\breaking_bad\\breaking_bad\\lib\\site-packages\\pandas\\_libs\\lib.pyx:2918\u001b[0m, in \u001b[0;36mpandas._libs.lib.map_infer\u001b[1;34m()\u001b[0m\n",
      "Cell \u001b[1;32mIn [18], line 2\u001b[0m, in \u001b[0;36m<lambda>\u001b[1;34m(x)\u001b[0m\n\u001b[0;32m      1\u001b[0m \u001b[38;5;66;03m# lambda applies filter to each sentence in df\u001b[39;00m\n\u001b[1;32m----> 2\u001b[0m sent_entity_df[\u001b[38;5;124m'\u001b[39m\u001b[38;5;124mcharacter_entities\u001b[39m\u001b[38;5;124m'\u001b[39m] \u001b[38;5;241m=\u001b[39m sent_entity_df[\u001b[38;5;124m'\u001b[39m\u001b[38;5;124mentities\u001b[39m\u001b[38;5;124m'\u001b[39m]\u001b[38;5;241m.\u001b[39mapply(\u001b[38;5;28;01mlambda\u001b[39;00m x: \u001b[43mfilter_entity\u001b[49m(x, characters ))\n\u001b[0;32m      4\u001b[0m \u001b[38;5;66;03m# choose all entries without [] \u001b[39;00m\n\u001b[0;32m      5\u001b[0m sent_entity_df_filtered \u001b[38;5;241m=\u001b[39m sent_entity_df[sent_entity_df[\u001b[38;5;124m'\u001b[39m\u001b[38;5;124mcharacter_entities\u001b[39m\u001b[38;5;124m'\u001b[39m]\u001b[38;5;241m.\u001b[39mmap(\u001b[38;5;28mlen\u001b[39m) \u001b[38;5;241m>\u001b[39m \u001b[38;5;241m0\u001b[39m]\n",
      "\u001b[1;31mNameError\u001b[0m: name 'filter_entity' is not defined"
     ]
    }
   ],
   "source": [
    "# lambda applies filter to each sentence in df\n",
    "sent_entity_df['character_entities'] = sent_entity_df['entities'].apply(lambda x: filter_entity(x, characters ))\n",
    "\n",
    "# choose all entries without [] \n",
    "sent_entity_df_filtered = sent_entity_df[sent_entity_df['character_entities'].map(len) > 0]\n",
    "sent_entity_df_filtered.head()"
   ]
  },
  {
   "cell_type": "markdown",
   "id": "22c8048c-8e2a-4038-a7bd-d253480ec0da",
   "metadata": {},
   "source": [
    "## Graph relationships"
   ]
  },
  {
   "cell_type": "code",
   "execution_count": null,
   "id": "daa613f0-b2f0-4690-a0da-4b66589c68a9",
   "metadata": {},
   "outputs": [],
   "source": [
    "window_size = 5\n",
    "relationships = []\n",
    "\n",
    "for i in range(sent_entity_df_filtered.index[-1]):\n",
    "    end_i = min(i+5, sent_entity_df_filtered.index[-1])\n",
    "    char_list = sum((sent_entity_df_filtered.loc[i: end_i].character_entities), [])\n",
    "    \n",
    "    # Removes self-contained relationships\n",
    "    char_unique = [char_list[i] for i in range(len(char_list))\n",
    "                   if (i==0) or char_list[i] != char_list[i-1]]\n",
    "    \n",
    "    # Maps first char(source) to relative(target) \n",
    "    if len(char_unique) > 1:\n",
    "        for idx, a in enumerate(char_unique[:-1]):\n",
    "            b = char_unique[idx + 1]\n",
    "            relationships.append({\"source\": a, \"target\": b})\n",
    "            "
   ]
  },
  {
   "cell_type": "code",
   "execution_count": null,
   "id": "a919b207-643b-4dd7-a5e8-e8771c306083",
   "metadata": {},
   "outputs": [],
   "source": [
    "relationships_df = pd.DataFrame(relationships)"
   ]
  },
  {
   "cell_type": "code",
   "execution_count": null,
   "id": "89ef0bf5-a85e-49b9-97dd-d70938a06239",
   "metadata": {},
   "outputs": [],
   "source": [
    "pd.set_option('display.max_rows', None)\n",
    "relationships_df.head()"
   ]
  },
  {
   "cell_type": "code",
   "execution_count": null,
   "id": "d6303b1a-3c37-46e9-8978-bb30e18b12d6",
   "metadata": {},
   "outputs": [],
   "source": [
    "# Sorted\n",
    "relationships_df = pd.DataFrame(np.sort(relationships_df.values, axis = 1), columns = relationships_df.columns)\n",
    "relationships_df.head()"
   ]
  },
  {
   "cell_type": "code",
   "execution_count": null,
   "id": "32721461-c04d-435e-bab7-8d291ec4f478",
   "metadata": {},
   "outputs": [],
   "source": [
    "# Assigning and summing a -> b relationships to create weight\n",
    "\n",
    "relationships_df[\"value\"] = 1\n",
    "relationships_df = relationships_df.groupby([\"source\", \"target\"], sort=False, as_index=False).sum()\n",
    "relationships_df"
   ]
  },
  {
   "cell_type": "code",
   "execution_count": null,
   "id": "6d4c64fc-00e9-44ea-8e14-c007135abbbc",
   "metadata": {
    "tags": []
   },
   "outputs": [],
   "source": [
    "# Combining name fname nname value\n"
   ]
  },
  {
   "cell_type": "markdown",
   "id": "8a2ffc4d-5ff7-439c-9fb9-d5c97d606075",
   "metadata": {},
   "source": [
    "## Graphing visual and analysis"
   ]
  },
  {
   "cell_type": "code",
   "execution_count": 50,
   "id": "ab47e1f0-4e19-4f93-9535-89231018cfaf",
   "metadata": {},
   "outputs": [],
   "source": [
    "# Create graph from relationships_df\n",
    "\n",
    "G = nx.from_pandas_edgelist(relationships_df,\n",
    "                            source = \"source\",\n",
    "                            target = \"target\",\n",
    "                            edge_attr = \"value\",\n",
    "                            create_using = nx.Graph())\n"
   ]
  },
  {
   "cell_type": "markdown",
   "id": "1869514b-c254-4202-adc6-59afc3fb8166",
   "metadata": {
    "tags": []
   },
   "source": [
    "### Networkx graph"
   ]
  },
  {
   "cell_type": "code",
   "execution_count": 51,
   "id": "0c86c22a-dbed-4416-92fb-56a0cda0634f",
   "metadata": {},
   "outputs": [
    {
     "data": {
      "image/png": "[encoded data removed]",
      "text/plain": [
       "<Figure size 500x500 with 1 Axes>"
      ]
     },
     "metadata": {},
     "output_type": "display_data"
    }
   ],
   "source": [
    "plt.figure(figsize=(5,5))\n",
    "pos = nx.kamada_kawai_layout(G)\n",
    "nx.draw(G, with_labels=True, node_color='skyblue', edge_cmap=plt.cm.Blues, pos=pos)\n",
    "plt.show()"
   ]
  },
  {
   "cell_type": "markdown",
   "id": "cc55e1ea-66b4-4022-95cc-3eaee4f68a0c",
   "metadata": {},
   "source": [
    "### Pyvis graph"
   ]
  },
  {
   "cell_type": "code",
   "execution_count": 52,
   "id": "56ed4ecc-975d-4df3-bea7-dc3d24c8a1f5",
   "metadata": {},
   "outputs": [
    {
     "name": "stdout",
     "output_type": "stream",
     "text": [
      "Local cdn resources have problems on chrome/safari when used in jupyter-notebook. \n"
     ]
    },
    {
     "data": {
      "text/html": [
       "\n",
       "        <iframe\n",
       "            width=\"1000px\"\n",
       "            height=\"600px\"\n",
       "            src=\"breaking_bad.html\"\n",
       "            frameborder=\"0\"\n",
       "            allowfullscreen\n",
       "            \n",
       "        ></iframe>\n",
       "        "
      ],
      "text/plain": [
       "<IPython.lib.display.IFrame at 0x26bbb297c40>"
      ]
     },
     "execution_count": 52,
     "metadata": {},
     "output_type": "execute_result"
    }
   ],
   "source": [
    "from pyvis.network import Network\n",
    "net = Network(notebook=True, width = \"1000px\", height = \"700px\", bgcolor='222222', font_color='white')\n",
    "\n",
    "\n",
    "\n",
    "\n",
    "\n",
    "net.from_nx(G)\n",
    "net.show(\"breaking_bad.html\")"
   ]
  }
 ],
 "metadata": {
  "kernelspec": {
   "display_name": "breaking_bad",
   "language": "python",
   "name": "breaking_bad"
  },
  "language_info": {
   "codemirror_mode": {
    "name": "ipython",
    "version": 3
   },
   "file_extension": ".py",
   "mimetype": "text/x-python",
   "name": "python",
   "nbconvert_exporter": "python",
   "pygments_lexer": "ipython3",
   "version": "3.9.13"
  }
 },
 "nbformat": 4,
 "nbformat_minor": 5
}
